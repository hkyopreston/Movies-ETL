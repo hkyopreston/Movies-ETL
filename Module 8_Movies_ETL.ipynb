{
 "cells": [
  {
   "cell_type": "code",
   "execution_count": 102,
   "metadata": {},
   "outputs": [],
   "source": [
    "# Import Dependencies\n",
    "\n",
    "import json\n",
    "import pandas as pd\n",
    "import numpy as np\n",
    "import os\n",
    "import re"
   ]
  },
  {
   "cell_type": "code",
   "execution_count": 103,
   "metadata": {},
   "outputs": [
    {
     "data": {
      "text/plain": [
       "'/Users/harrisonpreston/Google_Drive/Data_Analytics_Bootcamp/Module_8/Movies-ETL/filename'"
      ]
     },
     "execution_count": 103,
     "metadata": {},
     "output_type": "execute_result"
    }
   ],
   "source": [
    "# Import Wikipedia JSON file\n",
    "\n",
    "file_dir = '/Users/harrisonpreston/Google_Drive/Data_Analytics_Bootcamp/Module_8/Movies-ETL/'\n",
    "f'{file_dir}filename'"
   ]
  },
  {
   "cell_type": "code",
   "execution_count": 104,
   "metadata": {},
   "outputs": [],
   "source": [
    "# Load JSON into a list of dictionaries\n",
    "\n",
    "with open(f'{file_dir}/wikipedia.movies.json', mode='r') as file:\n",
    "    wiki_movies_raw = json.load(file)"
   ]
  },
  {
   "cell_type": "code",
   "execution_count": 105,
   "metadata": {},
   "outputs": [
    {
     "data": {
      "text/plain": [
       "7311"
      ]
     },
     "execution_count": 105,
     "metadata": {},
     "output_type": "execute_result"
    }
   ],
   "source": [
    "# Check to see how many records were pulled in\n",
    "\n",
    "len(wiki_movies_raw)"
   ]
  },
  {
   "cell_type": "code",
   "execution_count": 106,
   "metadata": {},
   "outputs": [
    {
     "data": {
      "text/plain": [
       "[{'url': 'https://en.wikipedia.org/wiki/The_Adventures_of_Ford_Fairlane',\n",
       "  'year': 1990,\n",
       "  'imdb_link': 'https://www.imdb.com/title/tt0098987/',\n",
       "  'title': 'The Adventures of Ford Fairlane',\n",
       "  'Directed by': 'Renny Harlin',\n",
       "  'Produced by': ['Steve Perry', 'Joel Silver'],\n",
       "  'Screenplay by': ['David Arnott', 'James Cappe', 'Daniel Waters'],\n",
       "  'Story by': ['David Arnott', 'James Cappe'],\n",
       "  'Based on': ['Characters', 'by Rex Weiner'],\n",
       "  'Starring': ['Andrew Dice Clay',\n",
       "   'Wayne Newton',\n",
       "   'Priscilla Presley',\n",
       "   'Lauren Holly',\n",
       "   'Morris Day',\n",
       "   'Robert Englund',\n",
       "   \"Ed O'Neill\"],\n",
       "  'Narrated by': 'Andrew \"Dice\" Clay',\n",
       "  'Music by': ['Cliff Eidelman', 'Yello'],\n",
       "  'Cinematography': 'Oliver Wood',\n",
       "  'Edited by': 'Michael Tronick',\n",
       "  'Productioncompany ': 'Silver Pictures',\n",
       "  'Distributed by': '20th Century Fox',\n",
       "  'Release date': ['July 11, 1990', '(', '1990-07-11', ')'],\n",
       "  'Running time': '102 minutes',\n",
       "  'Country': 'United States',\n",
       "  'Language': 'English',\n",
       "  'Budget': '$20 million',\n",
       "  'Box office': '$21.4 million'},\n",
       " {'url': 'https://en.wikipedia.org/wiki/After_Dark,_My_Sweet',\n",
       "  'year': 1990,\n",
       "  'imdb_link': 'https://www.imdb.com/title/tt0098994/',\n",
       "  'title': 'After Dark, My Sweet',\n",
       "  'Directed by': 'James Foley',\n",
       "  'Produced by': ['Ric Kidney', 'Robert Redlin'],\n",
       "  'Screenplay by': ['James Foley', 'Robert Redlin'],\n",
       "  'Based on': ['the novel', 'After Dark, My Sweet', 'by', 'Jim Thompson'],\n",
       "  'Starring': ['Jason Patric',\n",
       "   'Rachel Ward',\n",
       "   'Bruce Dern',\n",
       "   'George Dickerson'],\n",
       "  'Music by': 'Maurice Jarre',\n",
       "  'Cinematography': 'Mark Plummer',\n",
       "  'Edited by': 'Howard E. Smith',\n",
       "  'Productioncompany ': 'Avenue Pictures',\n",
       "  'Distributed by': 'Avenue Pictures',\n",
       "  'Release date': ['May 17, 1990',\n",
       "   '(',\n",
       "   '1990-05-17',\n",
       "   ')',\n",
       "   '(Cannes Film Market)',\n",
       "   'August 24, 1990',\n",
       "   '(',\n",
       "   '1990-08-24',\n",
       "   ')',\n",
       "   '(United States)'],\n",
       "  'Running time': '114 minutes',\n",
       "  'Country': 'United States',\n",
       "  'Language': 'English',\n",
       "  'Budget': '$6 million',\n",
       "  'Box office': '$2.7 million'},\n",
       " {'url': 'https://en.wikipedia.org/wiki/Air_America_(film)',\n",
       "  'year': 1990,\n",
       "  'imdb_link': 'https://www.imdb.com/title/tt0099005/',\n",
       "  'title': 'Air America',\n",
       "  'Directed by': 'Roger Spottiswoode',\n",
       "  'Produced by': 'Daniel Melnick',\n",
       "  'Screenplay by': ['John Eskow', 'Richard Rush'],\n",
       "  'Based on': ['Air America', 'by', 'Christopher Robbins'],\n",
       "  'Starring': ['Mel Gibson',\n",
       "   'Robert Downey Jr.',\n",
       "   'Nancy Travis',\n",
       "   'David Marshall Grant',\n",
       "   'Lane Smith'],\n",
       "  'Music by': 'Charles Gross',\n",
       "  'Cinematography': 'Roger Deakins',\n",
       "  'Edited by': ['John Bloom', 'Lois Freeman-Fox'],\n",
       "  'Productioncompany ': ['Carolco Pictures', 'IndieProd Company'],\n",
       "  'Distributed by': 'TriStar Pictures',\n",
       "  'Release date': ['August 10, 1990', '(', '1990-08-10', ')'],\n",
       "  'Running time': '113 minutes',\n",
       "  'Country': 'United States',\n",
       "  'Language': ['English', 'Lao'],\n",
       "  'Budget': '$35 million',\n",
       "  'Box office': '$57,718,089'},\n",
       " {'url': 'https://en.wikipedia.org/wiki/Alice_(1990_film)',\n",
       "  'year': 1990,\n",
       "  'imdb_link': 'https://www.imdb.com/title/tt0099012/',\n",
       "  'title': 'Alice',\n",
       "  'Directed by': 'Woody Allen',\n",
       "  'Produced by': 'Robert Greenhut',\n",
       "  'Written by': 'Woody Allen',\n",
       "  'Starring': ['Alec Baldwin',\n",
       "   'Blythe Danner',\n",
       "   'Judy Davis',\n",
       "   'Mia Farrow',\n",
       "   'William Hurt',\n",
       "   'Keye Luke',\n",
       "   'Joe Mantegna',\n",
       "   'Bernadette Peters'],\n",
       "  'Cinematography': 'Carlo Di Palma',\n",
       "  'Edited by': 'Susan E. Morse',\n",
       "  'Distributed by': 'Orion Pictures',\n",
       "  'Release date': ['December 25, 1990', '(', '1990-12-25', ')'],\n",
       "  'Running time': '106 minutes',\n",
       "  'Country': 'United States',\n",
       "  'Language': 'English',\n",
       "  'Budget': '$12 million',\n",
       "  'Box office': '$7,331,647'},\n",
       " {'url': 'https://en.wikipedia.org/wiki/Almost_an_Angel',\n",
       "  'year': 1990,\n",
       "  'imdb_link': 'https://www.imdb.com/title/tt0099018/',\n",
       "  'title': 'Almost an Angel',\n",
       "  'Directed by': 'John Cornell',\n",
       "  'Produced by': 'John Cornell',\n",
       "  'Written by': 'Paul Hogan',\n",
       "  'Starring': ['Paul Hogan', 'Elias Koteas', 'Linda Kozlowski'],\n",
       "  'Music by': 'Maurice Jarre',\n",
       "  'Cinematography': 'Russell Boyd',\n",
       "  'Edited by': 'David Stiven',\n",
       "  'Distributed by': 'Paramount Pictures',\n",
       "  'Release date': 'December 19, 1990',\n",
       "  'Running time': '95 minutes',\n",
       "  'Country': 'US',\n",
       "  'Language': 'English',\n",
       "  'Budget': '$25 million',\n",
       "  'Box office': '$6,939,946 (USA)'}]"
      ]
     },
     "execution_count": 106,
     "metadata": {},
     "output_type": "execute_result"
    }
   ],
   "source": [
    "# Check the first 5 records of the wiki movies dictionary\n",
    "\n",
    "wiki_movies_raw[:5]"
   ]
  },
  {
   "cell_type": "code",
   "execution_count": 107,
   "metadata": {},
   "outputs": [
    {
     "data": {
      "text/plain": [
       "[{'url': 'https://en.wikipedia.org/wiki/Holmes_%26_Watson',\n",
       "  'year': 2018,\n",
       "  'imdb_link': 'https://www.imdb.com/title/tt1255919/',\n",
       "  'title': 'Holmes & Watson',\n",
       "  'Directed by': 'Etan Cohen',\n",
       "  'Produced by': ['Will Ferrell',\n",
       "   'Adam McKay',\n",
       "   'Jimmy Miller',\n",
       "   'Clayton Townsend'],\n",
       "  'Screenplay by': 'Etan Cohen',\n",
       "  'Based on': ['Sherlock Holmes',\n",
       "   'and',\n",
       "   'Dr. Watson',\n",
       "   'by',\n",
       "   'Sir Arthur Conan Doyle'],\n",
       "  'Starring': ['Will Ferrell',\n",
       "   'John C. Reilly',\n",
       "   'Rebecca Hall',\n",
       "   'Rob Brydon',\n",
       "   'Steve Coogan',\n",
       "   'Ralph Fiennes'],\n",
       "  'Music by': 'Mark Mothersbaugh',\n",
       "  'Cinematography': 'Oliver Wood',\n",
       "  'Edited by': 'Dean Zimmerman',\n",
       "  'Productioncompanies ': ['Columbia Pictures',\n",
       "   'Gary Sanchez Productions',\n",
       "   'Mosaic Media Group',\n",
       "   'Mimran Schur Pictures'],\n",
       "  'Distributed by': 'Sony Pictures Releasing',\n",
       "  'Release date': ['December 25, 2018',\n",
       "   '(',\n",
       "   '2018-12-25',\n",
       "   ')',\n",
       "   '(United States)'],\n",
       "  'Running time': '90 minutes',\n",
       "  'Country': 'United States',\n",
       "  'Language': 'English',\n",
       "  'Budget': '$42 million',\n",
       "  'Box office': '$41.9 million'},\n",
       " {'url': 'https://en.wikipedia.org/wiki/Vice_(2018_film)',\n",
       "  'year': 2018,\n",
       "  'imdb_link': 'https://www.imdb.com/title/tt6266538/',\n",
       "  'title': 'Vice',\n",
       "  'Directed by': 'Adam McKay',\n",
       "  'Produced by': ['Brad Pitt',\n",
       "   'Dede Gardner',\n",
       "   'Jeremy Kleiner',\n",
       "   'Kevin J. Messick',\n",
       "   'Will Ferrell',\n",
       "   'Adam McKay'],\n",
       "  'Written by': 'Adam McKay',\n",
       "  'Starring': ['Christian Bale',\n",
       "   'Amy Adams',\n",
       "   'Steve Carell',\n",
       "   'Sam Rockwell',\n",
       "   'Tyler Perry',\n",
       "   'Alison Pill',\n",
       "   'Lily Rabe',\n",
       "   'Jesse Plemons'],\n",
       "  'Music by': 'Nicholas Britell',\n",
       "  'Cinematography': 'Greig Fraser',\n",
       "  'Edited by': 'Hank Corwin',\n",
       "  'Productioncompany ': ['Plan B Entertainment',\n",
       "   'Gary Sanchez Productions',\n",
       "   'Annapurna Pictures'],\n",
       "  'Distributed by': 'Mirror Releasing',\n",
       "  'Release date': ['December 11, 2018',\n",
       "   '(',\n",
       "   '2018-12-11',\n",
       "   ')',\n",
       "   '(',\n",
       "   'Samuel Goldwyn Theater',\n",
       "   ')',\n",
       "   'December 25, 2018',\n",
       "   '(',\n",
       "   '2018-12-25',\n",
       "   ')',\n",
       "   '(United States)'],\n",
       "  'Running time': '132 minutes',\n",
       "  'Country': 'United States',\n",
       "  'Language': 'English',\n",
       "  'Budget': '$60 million',\n",
       "  'Box office': '$76.1 million'},\n",
       " {'url': 'https://en.wikipedia.org/wiki/On_the_Basis_of_Sex',\n",
       "  'year': 2018,\n",
       "  'imdb_link': 'https://www.imdb.com/title/tt4669788/',\n",
       "  'title': 'On the Basis of Sex',\n",
       "  'Directed by': 'Mimi Leder',\n",
       "  'Produced by': 'Robert W. Cort',\n",
       "  'Written by': 'Daniel Stiepleman',\n",
       "  'Starring': ['Felicity Jones',\n",
       "   'Armie Hammer',\n",
       "   'Justin Theroux',\n",
       "   'Sam Waterston',\n",
       "   'Kathy Bates'],\n",
       "  'Music by': 'Mychael Danna',\n",
       "  'Cinematography': 'Michael Grady',\n",
       "  'Edited by': 'Michelle Tesoro',\n",
       "  'Productioncompanies ': ['Focus Features',\n",
       "   '[1]',\n",
       "   'Participant Media',\n",
       "   '[1]',\n",
       "   'Robert Cort Productions',\n",
       "   '[1]',\n",
       "   'Alibaba Pictures',\n",
       "   '[2]'],\n",
       "  'Distributed by': 'Focus Features',\n",
       "  'Release date': ['November 8, 2018',\n",
       "   '(',\n",
       "   '2018-11-08',\n",
       "   ')',\n",
       "   '(',\n",
       "   'AFI Fest',\n",
       "   ')',\n",
       "   'December 25, 2018',\n",
       "   '(',\n",
       "   '2018-12-25',\n",
       "   ')',\n",
       "   '(United States)'],\n",
       "  'Running time': '120 minutes',\n",
       "  'Country': 'United States',\n",
       "  'Language': 'English',\n",
       "  'Budget': '$20 million',\n",
       "  'Box office': '$38.4 million'},\n",
       " {'url': 'https://en.wikipedia.org/wiki/Destroyer_(2018_film)',\n",
       "  'year': 2018,\n",
       "  'imdb_link': 'https://www.imdb.com/title/tt7137380/',\n",
       "  'title': 'Destroyer',\n",
       "  'Directed by': 'Karyn Kusama',\n",
       "  'Produced by': ['Fred Berger', 'Phil Hay', 'Matt Manfredi'],\n",
       "  'Written by': ['Phil Hay', 'Matt Manfredi'],\n",
       "  'Starring': ['Nicole Kidman',\n",
       "   'Sebastian Stan',\n",
       "   'Toby Kebbell',\n",
       "   'Tatiana Maslany',\n",
       "   'Bradley Whitford',\n",
       "   'Jade Pettyjohn',\n",
       "   'Scoot McNairy'],\n",
       "  'Music by': 'Theodore Shapiro',\n",
       "  'Cinematography': 'Julie Kirkwood',\n",
       "  'Edited by': 'Plummy Tucker',\n",
       "  'Productioncompany ': ['30West',\n",
       "   'Automatik Entertainment',\n",
       "   'Annapurna Pictures'],\n",
       "  'Distributed by': 'Mirror Releasing',\n",
       "  'Release date': ['August 31, 2018',\n",
       "   '(',\n",
       "   '2018-08-31',\n",
       "   ')',\n",
       "   '(',\n",
       "   'Telluride',\n",
       "   ')',\n",
       "   'December 25, 2018',\n",
       "   '(',\n",
       "   '2018-12-25',\n",
       "   ')',\n",
       "   '(United States)'],\n",
       "  'Running time': '123 minutes',\n",
       "  'Country': 'United States',\n",
       "  'Language': 'English',\n",
       "  'Budget': '$9 million',\n",
       "  'Box office': '$5.5 million'},\n",
       " {'url': 'https://en.wikipedia.org/wiki/Black_Mirror:_Bandersnatch',\n",
       "  'year': 2018,\n",
       "  'imdb_link': 'https://www.imdb.com/title/tt9495224/',\n",
       "  'title': 'Bandersnatch',\n",
       "  'Directed by': 'David Slade',\n",
       "  'Produced by': 'Russell McLean',\n",
       "  'Written by': 'Charlie Brooker',\n",
       "  'Starring': ['Fionn Whitehead',\n",
       "   'Will Poulter',\n",
       "   'Craig Parkinson',\n",
       "   'Alice Lowe',\n",
       "   'Asim Chaudhry'],\n",
       "  'Music by': 'Brian Reitzell',\n",
       "  'Cinematography': ['Aaron Morton', 'Jake Polonsky'],\n",
       "  'Edited by': 'Tony Kearns',\n",
       "  'Productioncompany ': ['House of Tomorrow', 'Netflix'],\n",
       "  'Distributed by': 'Netflix',\n",
       "  'Release date': ['28 December 2018', '(', '2018-12-28', ')'],\n",
       "  'Running time': 'Variable; 90 minutes for default path',\n",
       "  'Country': 'United Kingdom',\n",
       "  'Language': 'English'}]"
      ]
     },
     "execution_count": 107,
     "metadata": {},
     "output_type": "execute_result"
    }
   ],
   "source": [
    "# Check the last 5 records\n",
    "\n",
    "wiki_movies_raw[-5:]"
   ]
  },
  {
   "cell_type": "code",
   "execution_count": 108,
   "metadata": {},
   "outputs": [
    {
     "data": {
      "text/plain": [
       "[{'url': 'https://en.wikipedia.org/wiki/Benji:_Off_the_Leash!',\n",
       "  'year': 2004,\n",
       "  'imdb_link': 'https://www.imdb.com/title/tt0315273/',\n",
       "  'title': 'Benji: Off the Leash!',\n",
       "  'Directed by': 'Joe Camp',\n",
       "  'Written by': 'Joe Camp',\n",
       "  'Starring': ['Benji', 'Nick Whitaker', 'Shaggy', 'Gypsy the Cockatoo'],\n",
       "  'Music by': 'Antonio di Lorenzo',\n",
       "  'Productioncompany ': 'Mulberry Square Productions',\n",
       "  'Distributed by': 'Mulberry Square Productions',\n",
       "  'Release date': ['March 26, 2004', '(', '2004-03-26', ')'],\n",
       "  'Running time': '97 min',\n",
       "  'Country': 'United States',\n",
       "  'Language': 'English',\n",
       "  'Box office': '$3,817,362'},\n",
       " {'url': 'https://en.wikipedia.org/wiki/The_Best_Thief_in_the_World',\n",
       "  'year': 2004,\n",
       "  'imdb_link': 'https://www.imdb.com/title/tt0389796/',\n",
       "  'title': 'The Best Thief in the World',\n",
       "  'Directed by': 'Jacob Kornbluth',\n",
       "  'Produced by': ['Tim Perrell', 'Nicola Usborne'],\n",
       "  'Written by': 'Jacob Kornbluth',\n",
       "  'Starring': ['Marc Rozendaal',\n",
       "   'Michael Silverman',\n",
       "   'David Warshofsky',\n",
       "   'Audra McDonald',\n",
       "   'Lois Smith'],\n",
       "  'Music by': ['Prince Paul', 'and', 'Don Newkirk'],\n",
       "  'Cinematography': 'Ben Kutchins',\n",
       "  'Edited by': 'Stephanie Sterner',\n",
       "  'Distributed by': 'Showtime Networks',\n",
       "  'Release date': ['January 16, 2004', '(', '2004-01-16', ')'],\n",
       "  'Running time': '93 minutes',\n",
       "  'Country': 'United States',\n",
       "  'Language': 'English'},\n",
       " {'url': 'https://en.wikipedia.org/wiki/Beyond_the_Sea_(2004_film)',\n",
       "  'year': 2004,\n",
       "  'imdb_link': 'https://www.imdb.com/title/tt0363473/',\n",
       "  'title': 'Beyond the Sea',\n",
       "  'Directed by': 'Kevin Spacey',\n",
       "  'Produced by': ['Kevin Spacey',\n",
       "   'Phillip Barry',\n",
       "   'Dana Brunetti',\n",
       "   'Arthur Friedman',\n",
       "   'Jan Fantl',\n",
       "   'Andy Paterson'],\n",
       "  'Written by': ['Lewis Colick', 'Kevin Spacey'],\n",
       "  'Starring': ['Kevin Spacey', 'Kate Bosworth', 'Bob Hoskins', 'John Goodman'],\n",
       "  'Music by': 'Bobby Darin',\n",
       "  'Cinematography': 'Eduardo Serra',\n",
       "  'Edited by': 'Trevor Waite',\n",
       "  'Productioncompany ': 'Trigger Street Productions',\n",
       "  'Distributed by': ['Lionsgate Films',\n",
       "   '(USA)',\n",
       "   'Entertainment Film Distributors',\n",
       "   '(UK)',\n",
       "   'GAGA',\n",
       "   '(Japan)',\n",
       "   'Maple Pictures',\n",
       "   '(Canada)'],\n",
       "  'Release date': ['December 17, 2004', '(', '2004-12-17', ')'],\n",
       "  'Running time': '118 minutes',\n",
       "  'Country': 'United States',\n",
       "  'Language': 'English',\n",
       "  'Budget': '$25 million',\n",
       "  'Box office': '$8.4 million'},\n",
       " {'url': 'https://en.wikipedia.org/wiki/The_Big_Bounce_(2004_film)',\n",
       "  'year': 2004,\n",
       "  'imdb_link': 'https://www.imdb.com/title/tt0315824/',\n",
       "  'title': 'The Big Bounce',\n",
       "  'Directed by': 'George Armitage',\n",
       "  'Produced by': ['George Armitage', 'Steve Bing'],\n",
       "  'Screenplay by': 'Sebastian Gutierrez',\n",
       "  'Based on': ['The Big Bounce', 'by', 'Elmore Leonard'],\n",
       "  'Starring': ['Owen Wilson',\n",
       "   'Charlie Sheen',\n",
       "   'Morgan Freeman',\n",
       "   'Sara Foster',\n",
       "   'Gary Sinise'],\n",
       "  'Music by': 'George S. Clinton',\n",
       "  'Cinematography': 'Jeffrey L. Kimball',\n",
       "  'Edited by': 'Barry Malkin',\n",
       "  'Productioncompany ': 'Shangri-La Entertainment',\n",
       "  'Distributed by': 'Warner Bros. Pictures',\n",
       "  'Release date': ['January 30, 2004', '(', '2004-01-30', ')'],\n",
       "  'Running time': '88 minutes',\n",
       "  'Language': 'English',\n",
       "  'Budget': '$50 million',\n",
       "  'Box office': '$6.8 million'},\n",
       " {'url': 'https://en.wikipedia.org/wiki/Birth_(film)',\n",
       "  'year': 2004,\n",
       "  'imdb_link': 'https://www.imdb.com/title/tt0337876/',\n",
       "  'title': 'Birth',\n",
       "  'Directed by': 'Jonathan Glazer',\n",
       "  'Produced by': ['Lizie Gower', 'Nick Morris', 'Jean-Louis Piel'],\n",
       "  'Written by': ['Jean-Claude Carrière', 'Milo Addica', 'Jonathan Glazer'],\n",
       "  'Starring': ['Nicole Kidman',\n",
       "   'Cameron Bright',\n",
       "   'Danny Huston',\n",
       "   'Lauren Bacall'],\n",
       "  'Music by': 'Alexandre Desplat',\n",
       "  'Cinematography': 'Harris Savides',\n",
       "  'Edited by': ['Sam Sneade', 'Claus Wehlisch'],\n",
       "  'Distributed by': 'New Line Cinema',\n",
       "  'Release date': ['November 8, 2004', '(', '2004-11-08', ')'],\n",
       "  'Running time': '96 minutes',\n",
       "  'Country': 'United States',\n",
       "  'Language': 'English',\n",
       "  'Budget': '$20 million',\n",
       "  'Box office': '$23.9 million'}]"
      ]
     },
     "execution_count": 108,
     "metadata": {},
     "output_type": "execute_result"
    }
   ],
   "source": [
    "# Check some records in the middle\n",
    "\n",
    "wiki_movies_raw[3600:3605]"
   ]
  },
  {
   "cell_type": "code",
   "execution_count": null,
   "metadata": {},
   "outputs": [],
   "source": [
    "# Read Kaggle CVS files into Pandas DataFrame\n",
    "\n",
    "kaggle_metadata = pd.read_csv(f'{file_dir}movies_metadata.csv', low_memory=False)\n",
    "ratings = pd.read_csv(f'{file_dir}ratings.csv')"
   ]
  },
  {
   "cell_type": "code",
   "execution_count": null,
   "metadata": {},
   "outputs": [],
   "source": [
    "kaggle_metadata.sample(n=5)"
   ]
  },
  {
   "cell_type": "code",
   "execution_count": null,
   "metadata": {},
   "outputs": [],
   "source": [
    "ratings.sample(n=5)"
   ]
  },
  {
   "cell_type": "code",
   "execution_count": null,
   "metadata": {},
   "outputs": [],
   "source": [
    "# Create a DataFrame from wiki_movies_raw data\n",
    "\n",
    "wiki_movies_df = pd.DataFrame(wiki_movies_raw)\n",
    "\n",
    "wiki_movies_df.head()"
   ]
  },
  {
   "cell_type": "code",
   "execution_count": null,
   "metadata": {},
   "outputs": [],
   "source": [
    "# Put all DataFrame columns into a list\n",
    "\n",
    "wiki_movies_df.columns.tolist()"
   ]
  },
  {
   "cell_type": "code",
   "execution_count": null,
   "metadata": {},
   "outputs": [],
   "source": [
    "# Use List comprehension to Filter Data\n",
    "# Filter the data to only movies with a Director and an IMDb link\n",
    "\n",
    "wiki_movies = [movie for movie in wiki_movies_raw\n",
    "               if ('Director' in movie or 'Directed by' in movie) \n",
    "               and 'imdb_link' in movie]\n",
    "\n",
    "len(wiki_movies)"
   ]
  },
  {
   "cell_type": "code",
   "execution_count": null,
   "metadata": {},
   "outputs": [],
   "source": [
    "wiki_movies_df = pd.DataFrame(wiki_movies)\n",
    "wiki_movies_df.head()"
   ]
  },
  {
   "cell_type": "code",
   "execution_count": null,
   "metadata": {},
   "outputs": [],
   "source": [
    "# Add filter in our list comprehension to get rid of tv shows - based on 'No. of episodes' column\n",
    "\n",
    "wiki_movies = [movie for movie in wiki_movies_raw\n",
    "              if ('Director' in movie or 'Directed by' in movie)\n",
    "              and 'imdb_link' in movie\n",
    "              and 'No. of episodes' not in movie]"
   ]
  },
  {
   "cell_type": "code",
   "execution_count": null,
   "metadata": {},
   "outputs": [],
   "source": [
    "wiki_movies_df = pd.DataFrame(wiki_movies)\n",
    "wiki_movies_df.head()"
   ]
  },
  {
   "cell_type": "code",
   "execution_count": null,
   "metadata": {},
   "outputs": [],
   "source": [
    "# Write a simple function to make a copy of the movie and return it\n",
    "\n",
    "def clean_movie(movie):\n",
    "    movie = dict(movie) # Create a non-destructive copy\n",
    "    return movie"
   ]
  },
  {
   "cell_type": "code",
   "execution_count": null,
   "metadata": {},
   "outputs": [],
   "source": [
    "# Find which movies have a value for the language \"Arabic\"\n",
    "\n",
    "wiki_movies_df[wiki_movies_df['Arabic'].notnull()]"
   ]
  },
  {
   "cell_type": "code",
   "execution_count": null,
   "metadata": {},
   "outputs": [],
   "source": [
    "# Visit the movie's page for more details. \n",
    "\n",
    "wiki_movies_df[wiki_movies_df['Arabic'].notnull()]['url']\n",
    "\n",
    "## The different language columns are for alternate titles of the movie. "
   ]
  },
  {
   "cell_type": "code",
   "execution_count": null,
   "metadata": {},
   "outputs": [],
   "source": [
    "# Find which columns hold aternate titles\n",
    "\n",
    "sorted(wiki_movies_df.columns.tolist())"
   ]
  },
  {
   "cell_type": "code",
   "execution_count": null,
   "metadata": {},
   "outputs": [],
   "source": [
    "def clean_movie(movie):\n",
    "    movie = dict(movie) #create a non-destructive copy\n",
    "    alt_titles = {}\n",
    "    \n",
    "    # look through the list of all alternative title keys\n",
    "    for key in ['Also known as','Arabic','Cantonese','Chinese','French',\n",
    "                'Hangul','Hebrew','Hepburn','Japanese','Literally',\n",
    "                'Mandarin','McCune–Reischauer','Original title','Polish',\n",
    "                'Revised Romanization','Romanized','Russian',\n",
    "                'Simplified','Traditional','Yiddish']:\n",
    "        \n",
    "        # check if the current key exists in the movie object\n",
    "        if key in movie:\n",
    "            \n",
    "            # If so, remove the key_value pair and add to the alternative titles dictionary\n",
    "            alt_titles[key] = movie[key]\n",
    "            movie.pop(key)\n",
    "    \n",
    "    # After looping through every key, add the alternative titles dict to the movie object\n",
    "    if len(alt_titles) > 0:\n",
    "        movie['alt_titles'] = alt_titles\n",
    "\n",
    "    return movie"
   ]
  },
  {
   "cell_type": "code",
   "execution_count": null,
   "metadata": {},
   "outputs": [],
   "source": [
    "# Make a list of cleaned movies with list comprehension\n",
    "\n",
    "clean_movies = [clean_movie(movie) for movie in wiki_movies]"
   ]
  },
  {
   "cell_type": "code",
   "execution_count": null,
   "metadata": {},
   "outputs": [],
   "source": [
    "# Make a DataFrame and print out the columns\n",
    "\n",
    "wiki_movies_df = pd.DataFrame(clean_movies)\n",
    "sorted(wiki_movies_df.columns.tolist())"
   ]
  },
  {
   "cell_type": "code",
   "execution_count": null,
   "metadata": {},
   "outputs": [],
   "source": [
    "def clean_movie(movie):\n",
    "    movie = dict(movie) #create a non-destructive copy\n",
    "    alt_titles = {}\n",
    "    # combine alternate titles into one list\n",
    "    for key in ['Also known as','Arabic','Cantonese','Chinese','French',\n",
    "                'Hangul','Hebrew','Hepburn','Japanese','Literally',\n",
    "                'Mandarin','McCune-Reischauer','Original title','Polish',\n",
    "                'Revised Romanization','Romanized','Russian',\n",
    "                'Simplified','Traditional','Yiddish']:\n",
    "        if key in movie:\n",
    "            alt_titles[key] = movie[key]\n",
    "            movie.pop(key)\n",
    "    if len(alt_titles) > 0:\n",
    "        movie['alt_titles'] = alt_titles\n",
    "\n",
    "    # merge column names\n",
    "    def change_column_name(old_name, new_name):\n",
    "        if old_name in movie:\n",
    "            movie[new_name] = movie.pop(old_name)\n",
    "    change_column_name('Adaptation by', 'Writer(s)')\n",
    "    change_column_name('Country of origin', 'Country')\n",
    "    change_column_name('Directed by', 'Director')\n",
    "    change_column_name('Distributed by', 'Distributor')\n",
    "    change_column_name('Edited by', 'Editor(s)')\n",
    "    change_column_name('Length', 'Running time')\n",
    "    change_column_name('Original release', 'Release date')\n",
    "    change_column_name('Music by', 'Composer(s)')\n",
    "    change_column_name('Produced by', 'Producer(s)')\n",
    "    change_column_name('Producer', 'Producer(s)')\n",
    "    change_column_name('Productioncompanies ', 'Production company(s)')\n",
    "    change_column_name('Productioncompany ', 'Production company(s)')\n",
    "    change_column_name('Released', 'Release Date')\n",
    "    change_column_name('Release Date', 'Release date')\n",
    "    change_column_name('Screen story by', 'Writer(s)')\n",
    "    change_column_name('Screenplay by', 'Writer(s)')\n",
    "    change_column_name('Story by', 'Writer(s)')\n",
    "    change_column_name('Theme music composer', 'Composer(s)')\n",
    "    change_column_name('Written by', 'Writer(s)')\n",
    "\n",
    "    return movie"
   ]
  },
  {
   "cell_type": "code",
   "execution_count": null,
   "metadata": {},
   "outputs": [],
   "source": [
    "clean_movies = [clean_movie(movie) for movie in wiki_movies]\n",
    "wiki_movies_df = pd.DataFrame(clean_movies)"
   ]
  },
  {
   "cell_type": "code",
   "execution_count": null,
   "metadata": {},
   "outputs": [],
   "source": [
    "sorted(wiki_movies_df.columns.tolist())"
   ]
  },
  {
   "cell_type": "code",
   "execution_count": null,
   "metadata": {},
   "outputs": [],
   "source": [
    "# Extract IMDb ID \n",
    "\n",
    "wiki_movies_df['imdb_id'] = wiki_movies_df['imdb_link'].str.extract(r'(tt\\d{7})')\n"
   ]
  },
  {
   "cell_type": "code",
   "execution_count": null,
   "metadata": {},
   "outputs": [],
   "source": [
    "# Drop dublicate IMDb ID's\n",
    "# See the new number of rows\n",
    "# See how many rows were dropped\n",
    "\n",
    "wiki_movies_df['imdb_id'] = wiki_movies_df['imdb_link'].str.extract(r'(tt\\d{7})')\n",
    "print(len(wiki_movies_df))\n",
    "wiki_movies_df.drop_duplicates(subset='imdb_id', inplace=True)\n",
    "print(len(wiki_movies_df))\n",
    "wiki_movies_df.head()\n",
    "\n"
   ]
  },
  {
   "cell_type": "code",
   "execution_count": null,
   "metadata": {},
   "outputs": [],
   "source": [
    "# Get a count of null values for each column\n",
    "\n",
    "[[column,wiki_movies_df[column].isnull().sum()] for column in wiki_movies_df.columns]\n",
    "\n",
    "\n"
   ]
  },
  {
   "cell_type": "code",
   "execution_count": null,
   "metadata": {},
   "outputs": [],
   "source": [
    "# Tweak the list comprehension to make a list of columns that have less than 90% null values\n",
    "# These are the columns that we want to keep\n",
    "\n",
    "[column for column in wiki_movies_df.columns if wiki_movies_df[column].isnull().sum() < len(wiki_movies_df) * 0.9]\n"
   ]
  },
  {
   "cell_type": "code",
   "execution_count": null,
   "metadata": {},
   "outputs": [],
   "source": [
    "wiki_columns_to_keep = [column for column in wiki_movies_df.columns if wiki_movies_df[column].isnull().sum() < len(wiki_movies_df) * 0.9]\n",
    "wiki_movies_df = wiki_movies_df[wiki_columns_to_keep]"
   ]
  },
  {
   "cell_type": "code",
   "execution_count": null,
   "metadata": {},
   "outputs": [],
   "source": [
    "wiki_movies_df.dtypes"
   ]
  },
  {
   "cell_type": "code",
   "execution_count": null,
   "metadata": {},
   "outputs": [],
   "source": [
    "# make a data series that drops missing values from the 'Box Office' column\n",
    "\n",
    "box_office = wiki_movies_df['Box office'].dropna() \n",
    "len(box_office)"
   ]
  },
  {
   "cell_type": "code",
   "execution_count": null,
   "metadata": {},
   "outputs": [],
   "source": [
    "# Use the apply() method to see which values within 'box_office' are not string values\n",
    "\n",
    "def is_not_a_string(x):\n",
    "    return type(x) != str\n",
    "box_office[box_office.map(is_not_a_string)]"
   ]
  },
  {
   "cell_type": "code",
   "execution_count": null,
   "metadata": {},
   "outputs": [],
   "source": [
    "# Update our map() call to use the lambda function direction instead of using is_not_a_string()\n",
    "\n",
    "box_office[box_office.map(lambda x: type(x) != str)]\n"
   ]
  },
  {
   "cell_type": "code",
   "execution_count": null,
   "metadata": {},
   "outputs": [],
   "source": [
    "# apply the join() function only when our data points are lists\n",
    "\n",
    "box_office = box_office.apply(lambda x: ' '.join(x) if type(x) == list else x)\n",
    "box_office"
   ]
  },
  {
   "cell_type": "code",
   "execution_count": null,
   "metadata": {},
   "outputs": [],
   "source": []
  },
  {
   "cell_type": "code",
   "execution_count": null,
   "metadata": {},
   "outputs": [],
   "source": []
  }
 ],
 "metadata": {
  "kernelspec": {
   "display_name": "PythonData",
   "language": "python",
   "name": "pythondata"
  },
  "language_info": {
   "codemirror_mode": {
    "name": "ipython",
    "version": 3
   },
   "file_extension": ".py",
   "mimetype": "text/x-python",
   "name": "python",
   "nbconvert_exporter": "python",
   "pygments_lexer": "ipython3",
   "version": "3.7.7"
  }
 },
 "nbformat": 4,
 "nbformat_minor": 4
}
